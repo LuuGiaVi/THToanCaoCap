{
  "nbformat": 4,
  "nbformat_minor": 0,
  "metadata": {
    "colab": {
      "name": "Baithi.ipynb",
      "provenance": [],
      "authorship_tag": "ABX9TyNddNn0aOA0J4eFW5A6ma+F",
      "include_colab_link": true
    },
    "kernelspec": {
      "name": "python3",
      "display_name": "Python 3"
    },
    "language_info": {
      "name": "python"
    }
  },
  "cells": [
    {
      "cell_type": "markdown",
      "metadata": {
        "id": "view-in-github",
        "colab_type": "text"
      },
      "source": [
        "<a href=\"https://colab.research.google.com/github/LuuGiaVi/THToanCaoCap/blob/main/Baithi.ipynb\" target=\"_parent\"><img src=\"https://colab.research.google.com/assets/colab-badge.svg\" alt=\"Open In Colab\"/></a>"
      ]
    },
    {
      "cell_type": "markdown",
      "source": [
        "câu 1\n",
        "\n"
      ],
      "metadata": {
        "id": "Lr3cwUucYrmK"
      }
    },
    {
      "cell_type": "code",
      "execution_count": null,
      "metadata": {
        "id": "kA1kXtNJWTzy"
      },
      "outputs": [],
      "source": [
        "from sympy import Integral, Symbol\n",
        "x=Symbol('x')\n"
      ]
    },
    {
      "cell_type": "markdown",
      "source": [
        "câu 2"
      ],
      "metadata": {
        "id": "sI6jI4WidFBq"
      }
    },
    {
      "cell_type": "markdown",
      "source": [
        "2"
      ],
      "metadata": {
        "id": "2R6YhZ4udHtU"
      }
    },
    {
      "cell_type": "code",
      "source": [
        "from sympy import Derivative, Symbol\n",
        "x=Symbol('x')\n",
        "f=(2*x-1)/(x+2)\n",
        "Derivative(f, x). doit()"
      ],
      "metadata": {
        "colab": {
          "base_uri": "https://localhost:8080/",
          "height": 58
        },
        "id": "p9XFio9wdJFc",
        "outputId": "f8e9d309-99a5-4253-f4a1-35f16d510cfe"
      },
      "execution_count": 20,
      "outputs": [
        {
          "output_type": "execute_result",
          "data": {
            "text/plain": [
              "2/(x + 2) - (2*x - 1)/(x + 2)**2"
            ],
            "text/latex": "$\\displaystyle \\frac{2}{x + 2} - \\frac{2 x - 1}{\\left(x + 2\\right)^{2}}$"
          },
          "metadata": {},
          "execution_count": 20
        }
      ]
    },
    {
      "cell_type": "markdown",
      "source": [
        "câu 3"
      ],
      "metadata": {
        "id": "92lFmsw_Y92b"
      }
    },
    {
      "cell_type": "markdown",
      "source": [
        "3"
      ],
      "metadata": {
        "id": "g7bLvIirZBOi"
      }
    },
    {
      "cell_type": "code",
      "source": [
        "from sympy import Symbol, sin\n",
        "x= Symbol('x')\n",
        "limit(x*x*sin(1/2), x, 0). doit()"
      ],
      "metadata": {
        "colab": {
          "base_uri": "https://localhost:8080/",
          "height": 37
        },
        "id": "stmL0LNhZCDv",
        "outputId": "eb9b2950-8b8d-45f8-8831-e3dbbe0d8614"
      },
      "execution_count": 14,
      "outputs": [
        {
          "output_type": "execute_result",
          "data": {
            "text/plain": [
              "0"
            ],
            "text/latex": "$\\displaystyle 0$"
          },
          "metadata": {},
          "execution_count": 14
        }
      ]
    },
    {
      "cell_type": "markdown",
      "source": [
        "5"
      ],
      "metadata": {
        "id": "oTZF6QylbpIg"
      }
    },
    {
      "cell_type": "code",
      "source": [
        "from sympy import Symbol, limit\n",
        "x= Symbol('x')\n",
        "limit((1+x+x*x+x*x*x)/(1+x), x, 0, dir='+'). doit()"
      ],
      "metadata": {
        "colab": {
          "base_uri": "https://localhost:8080/",
          "height": 37
        },
        "id": "o-tIr8wAbqPk",
        "outputId": "6aac1c71-b823-4ece-c4af-cc6457485602"
      },
      "execution_count": 15,
      "outputs": [
        {
          "output_type": "execute_result",
          "data": {
            "text/plain": [
              "1"
            ],
            "text/latex": "$\\displaystyle 1$"
          },
          "metadata": {},
          "execution_count": 15
        }
      ]
    }
  ]
}